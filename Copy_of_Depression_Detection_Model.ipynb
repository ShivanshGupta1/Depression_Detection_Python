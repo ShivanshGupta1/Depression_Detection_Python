{
  "nbformat": 4,
  "nbformat_minor": 0,
  "metadata": {
    "colab": {
      "provenance": [],
      "authorship_tag": "ABX9TyPQJZhzzcTawvQS/B3ZKZS4",
      "include_colab_link": true
    },
    "kernelspec": {
      "name": "python3",
      "display_name": "Python 3"
    },
    "language_info": {
      "name": "python"
    }
  },
  "cells": [
    {
      "cell_type": "markdown",
      "metadata": {
        "id": "view-in-github",
        "colab_type": "text"
      },
      "source": [
        "<a href=\"https://colab.research.google.com/github/ShivanshGupta1/Depression_Detection_Python/blob/main/Copy_of_Depression_Detection_Model.ipynb\" target=\"_parent\"><img src=\"https://colab.research.google.com/assets/colab-badge.svg\" alt=\"Open In Colab\"/></a>"
      ]
    },
    {
      "cell_type": "code",
      "execution_count": null,
      "metadata": {
        "colab": {
          "base_uri": "https://localhost:8080/"
        },
        "id": "uogBKKv-RzV4",
        "outputId": "906176fd-7ded-4eb2-dff4-cccb662c35d8"
      },
      "outputs": [
        {
          "output_type": "stream",
          "name": "stdout",
          "text": [
            "Please put your sentence: hdhdhd\n",
            "\n",
            " I think on a scale of 0 to 10 where 0 is total happiness and 10 is total depression, this sentence is a \n",
            " 1 and the age of the person who wrote this sentence may be \n",
            " Adult. Please note this is only based on a limited amount of data and may or may not be correct. \n",
            "\n",
            "\n",
            " Age Classification Report:\n",
            " \n",
            "               precision    recall  f1-score   support\n",
            "\n",
            "       Adult       0.77      0.98      0.87        59\n",
            "     Old Age       1.00      0.73      0.84        11\n",
            "    Teenager       0.90      0.39      0.55        23\n",
            "\n",
            "    accuracy                           0.81        93\n",
            "   macro avg       0.89      0.70      0.75        93\n",
            "weighted avg       0.83      0.81      0.78        93\n",
            "\n",
            "Sentiment Classification Report:\n",
            " \n",
            "               precision    recall  f1-score   support\n",
            "\n",
            "           1       0.51      0.97      0.67        30\n",
            "           2       0.67      0.88      0.76        16\n",
            "           3       0.60      0.33      0.43         9\n",
            "           4       1.00      0.40      0.57         5\n",
            "           5       0.00      0.00      0.00         9\n",
            "           6       1.00      0.43      0.60         7\n",
            "           7       1.00      0.50      0.67         6\n",
            "           8       1.00      0.22      0.36         9\n",
            "           9       0.00      0.00      0.00         2\n",
            "\n",
            "    accuracy                           0.60        93\n",
            "   macro avg       0.64      0.41      0.45        93\n",
            "weighted avg       0.63      0.60      0.54        93\n",
            "\n",
            "Age Accuracy:  0.8064516129032258 \n",
            "\n",
            "Sentiment Accuracy:  0.6021505376344086 \n",
            "\n"
          ]
        },
        {
          "output_type": "stream",
          "name": "stderr",
          "text": [
            "/usr/local/lib/python3.10/dist-packages/sklearn/metrics/_classification.py:1344: UndefinedMetricWarning: Precision and F-score are ill-defined and being set to 0.0 in labels with no predicted samples. Use `zero_division` parameter to control this behavior.\n",
            "  _warn_prf(average, modifier, msg_start, len(result))\n",
            "/usr/local/lib/python3.10/dist-packages/sklearn/metrics/_classification.py:1344: UndefinedMetricWarning: Precision and F-score are ill-defined and being set to 0.0 in labels with no predicted samples. Use `zero_division` parameter to control this behavior.\n",
            "  _warn_prf(average, modifier, msg_start, len(result))\n",
            "/usr/local/lib/python3.10/dist-packages/sklearn/metrics/_classification.py:1344: UndefinedMetricWarning: Precision and F-score are ill-defined and being set to 0.0 in labels with no predicted samples. Use `zero_division` parameter to control this behavior.\n",
            "  _warn_prf(average, modifier, msg_start, len(result))\n"
          ]
        }
      ],
      "source": [
        "import pandas as pd\n",
        "from sklearn.model_selection import train_test_split\n",
        "from sklearn.feature_extraction.text import CountVectorizer\n",
        "from sklearn.feature_extraction.text import TfidfTransformer\n",
        "from sklearn.naive_bayes import MultinomialNB\n",
        "from sklearn.pipeline import Pipeline\n",
        "from sklearn.metrics import classification_report, accuracy_score\n",
        "\n",
        "df = pd.read_csv('Complete_DataSet.csv')\n",
        "\n",
        "df['text'] = df['post'].astype(str)\n",
        "\n",
        "post_train, post_test, sentiment_train, sentiment_test, age_train, age_test = train_test_split(\n",
        "    df['text'], df['sentiment'], df['age'], test_size=0.2\n",
        ")\n",
        "\n",
        "text_clf = Pipeline([\n",
        "    ('vect', CountVectorizer()),\n",
        "    ('tfidf', TfidfTransformer()),\n",
        "    ('clf', MultinomialNB()),\n",
        "])\n",
        "\n",
        "text_clf.fit(post_train, age_train)\n",
        "age_pred = text_clf.predict(post_test)\n",
        "age_pred_single = text_clf.predict([sentence])\n",
        "\n",
        "text_clf.fit(post_train, sentiment_train)\n",
        "sentiment_pred = text_clf.predict(post_test)\n",
        "sentiment_pred_single = text_clf.predict([sentence])\n",
        "\n",
        "sentence = input(\"Please put your sentence: \")\n",
        "\n",
        "print(\"\\n I think on a scale of 0 to 10 where 0 is total happiness and 10 is total depression, this sentence is a \\n\",\n",
        "      sentiment_pred_single[0], \"and the age of the person who wrote this sentence may be \\n\",\n",
        "      age_pred_single[0] + \".\" \" Please note this is only based on a limited amount of data and may or may not be correct. \\n\")\n",
        "\n",
        "# Evaluate the classifier\n",
        "print(\"\\n Age Classification Report:\\n \\n\", classification_report(age_test, age_pred))\n",
        "print(\"Sentiment Classification Report:\\n \\n\", classification_report(sentiment_test, sentiment_pred))\n",
        "print(\"Age Accuracy: \", accuracy_score(age_test, age_pred), \"\\n\")\n",
        "print(\"Sentiment Accuracy: \", accuracy_score(sentiment_test, sentiment_pred), \"\\n\")\n"
      ]
    }
  ]
}